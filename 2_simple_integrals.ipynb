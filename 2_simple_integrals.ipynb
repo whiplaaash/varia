{
 "cells": [
  {
   "cell_type": "markdown",
   "id": "d600efc6-9ad2-4f98-b2a6-176b04ffb6ec",
   "metadata": {},
   "source": [
    "## Section 2: Calculating integrals"
   ]
  },
  {
   "cell_type": "markdown",
   "id": "ab0a47c9-a0b6-4ac4-8653-456f27870e7f",
   "metadata": {},
   "source": [
    "### Definite single integral\n",
    "\n",
    "To get any integral numerically, we use the package *scipy.intgrate*. \n",
    "\n",
    "The integral has the form:\n",
    "$$\n",
    "\\int_0^2 (x^2+1)dx\n",
    "$$"
   ]
  },
  {
   "cell_type": "code",
   "execution_count": 19,
   "id": "af05af84-2cce-49a2-90d2-2ae2ad18699a",
   "metadata": {},
   "outputs": [
    {
     "name": "stdout",
     "output_type": "stream",
     "text": [
      "Wynik całki: 4.666666666666666\n",
      "Błąd numeryczny: 5.1810407815840634e-14\n"
     ]
    }
   ],
   "source": [
    "from scipy.integrate import quad\n",
    "\n",
    "# Funkcja podcałkowa\n",
    "def f(x):\n",
    "    return x**2 + 1\n",
    "\n",
    "# Liczymy całkę oznaczoną od 0 do 2\n",
    "result, error = quad(f, 0, 2)\n",
    "\n",
    "print(\"Wynik całki:\", result)\n",
    "print(\"Błąd numeryczny:\", error)\n"
   ]
  },
  {
   "cell_type": "markdown",
   "id": "9668cd68-65db-418c-bf9b-94535d1fa97f",
   "metadata": {},
   "source": [
    "## Definite double integral.\n",
    "\n",
    "The intgral has the form:\n",
    "$$\n",
    "\\int_0^1 \\int_0^{2x} (x^2+y^2) dy dx\n",
    "$$"
   ]
  },
  {
   "cell_type": "code",
   "execution_count": 10,
   "id": "6b4105ac-cae2-406d-8f67-6da544482eb9",
   "metadata": {},
   "outputs": [
    {
     "name": "stdout",
     "output_type": "stream",
     "text": [
      "Wynik całki: 1.1666666666666665\n",
      "Błąd numeryczny: 5.14736339205927e-14\n"
     ]
    }
   ],
   "source": [
    "from scipy.integrate import dblquad\n",
    "\n",
    "# Funkcja podcałkowa\n",
    "def integrand(y, x):\n",
    "    return x**2 + y**2\n",
    "\n",
    "# Granice całkowania dla y: od 0 do 2x\n",
    "def lower_y(x):\n",
    "    return 0\n",
    "\n",
    "def upper_y(x):\n",
    "    return 2*x\n",
    "\n",
    "# Granice całkowania dla x: od 0 do 1\n",
    "result, error = dblquad(integrand, 0, 1, lower_y, upper_y)\n",
    "\n",
    "print(\"Wynik całki:\", result)\n",
    "print(\"Błąd numeryczny:\", error)\n"
   ]
  },
  {
   "cell_type": "markdown",
   "id": "0df5fbf6-315d-4d1c-a67c-809ffb63c639",
   "metadata": {},
   "source": [
    "## Indefinite single integral\n",
    "\n",
    "The calculation is symbolic so for this we use the package *sympy* and the function *integrate()*.\n",
    "\n",
    "The integral has the form:\n",
    "$$\n",
    "\\int (x^2+1)dx\n",
    "$$"
   ]
  },
  {
   "cell_type": "code",
   "execution_count": 34,
   "id": "65a8b668-0262-4f5e-884a-004081d7e131",
   "metadata": {},
   "outputs": [
    {
     "name": "stdout",
     "output_type": "stream",
     "text": [
      "Całka nieoznaczona: x**3/3 + x\n"
     ]
    }
   ],
   "source": [
    "from sympy import symbols, integrate\n",
    "\n",
    "x = symbols('x')\n",
    "f = x**2 + 1\n",
    "\n",
    "# Liczymy całkę nieoznaczoną\n",
    "indef_integral = integrate(f, x)\n",
    "print(\"Całka nieoznaczona:\", indef_integral)\n"
   ]
  },
  {
   "cell_type": "markdown",
   "id": "b0d423c8-0896-4168-984d-a65ecf1bb932",
   "metadata": {},
   "source": [
    "The definite integral can be also calculated using the symbolic approach."
   ]
  },
  {
   "cell_type": "code",
   "execution_count": 37,
   "id": "52395e57-bbfc-468f-ab8f-74dbd61600bb",
   "metadata": {},
   "outputs": [
    {
     "name": "stdout",
     "output_type": "stream",
     "text": [
      "Całka oznaczona: 14/3\n"
     ]
    }
   ],
   "source": [
    "def_integral = integrate(f, (x, 0, 2))\n",
    "print(\"Całka oznaczona:\", def_integral)"
   ]
  },
  {
   "cell_type": "code",
   "execution_count": null,
   "id": "eb605d3e-5e6a-4612-944f-afb8204d8126",
   "metadata": {},
   "outputs": [],
   "source": []
  }
 ],
 "metadata": {
  "kernelspec": {
   "display_name": "Python 3 (ipykernel)",
   "language": "python",
   "name": "python3"
  },
  "language_info": {
   "codemirror_mode": {
    "name": "ipython",
    "version": 3
   },
   "file_extension": ".py",
   "mimetype": "text/x-python",
   "name": "python",
   "nbconvert_exporter": "python",
   "pygments_lexer": "ipython3",
   "version": "3.12.7"
  }
 },
 "nbformat": 4,
 "nbformat_minor": 5
}
