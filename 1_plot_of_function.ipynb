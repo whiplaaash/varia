{
 "cells": [
  {
   "cell_type": "code",
   "execution_count": 45,
   "id": "59acb8c8-ae60-423d-b54b-64c01642b33a",
   "metadata": {},
   "outputs": [
    {
     "data": {
      "image/png": "[encoded data removed]",
      "text/plain": [
       "<Figure size 640x480 with 1 Axes>"
      ]
     },
     "metadata": {},
     "output_type": "display_data"
    }
   ],
   "source": [
    "import numpy as np\n",
    "import matplotlib.pyplot as plt\n",
    "import math as math\n",
    "\n",
    "x \n",
    "\n",
    "# Step 1: Define the function you want to plot\n",
    "def f(x):\n",
    "    return np.exp(1/x)/((x**2)*(np.exp(1/x)-1)**2) # example function\n",
    "\n",
    "# Step 2: Generate x values\n",
    "x = np.linspace(0.5, 400, 400)  # Generates 400 points from -10 to 10\n",
    "\n",
    "# Step 3: Compute y values using the function\n",
    "y = f(x)\n",
    "\n",
    "g = np.exp(1/x)\n",
    "h = 1/(x**2)\n",
    "\n",
    "# Step 4: Create the plot\n",
    "plt.plot(x, g, h, label=\"y = x^2\")\n",
    "\n",
    "# Step 5: Add labels and title\n",
    "plt.xlabel(\"x\")\n",
    "plt.ylabel(\"y\")\n",
    "plt.title(\"Plot of y = x^2\")\n",
    "plt.legend()\n",
    "\n",
    "# Step 6: Show the plot\n",
    "plt.show()\n"
   ]
  },
  {
   "cell_type": "code",
   "execution_count": 59,
   "id": "ec0845db-5413-41f9-9b0f-35739f0b4d49",
   "metadata": {},
   "outputs": [
    {
     "name": "stdout",
     "output_type": "stream",
     "text": [
      "1 + x + x**2/2 + x**3/6 + x**4/24 + x**5/120 + O(x**6)\n"
     ]
    }
   ],
   "source": [
    "# Taylor series\n",
    "\n",
    "from sympy import symbols, exp, series\n",
    "\n",
    "# Step 1: Define the variable and function\n",
    "x = symbols('x')\n",
    "f = exp(x)  # Define the function\n",
    "\n",
    "# Step 2: Perform Taylor expansion around x = 0 up to x^5\n",
    "taylor_expansion = series(f, x, 0, 6)  # Expand up to order 5 (x^5 term)\n",
    "\n",
    "# Step 3: Display the Taylor expansion\n",
    "print(taylor_expansion)"
   ]
  },
  {
   "cell_type": "code",
   "execution_count": 57,
   "id": "b38a1b22-c1ac-4af9-a5bc-53cfacd0875d",
   "metadata": {},
   "outputs": [
    {
     "name": "stdout",
     "output_type": "stream",
     "text": [
      "2*x\n",
      "6*x\n"
     ]
    }
   ],
   "source": [
    "# Derivatives\n",
    "\n",
    "from sympy import symbols, diff\n",
    "\n",
    "# Step 1: Define the variable and function\n",
    "\n",
    "x = symbols('x')  # Symbolic variable\n",
    "\n",
    "f = x**2          # Function f(x) = x^2\n",
    "\n",
    "g = x**3\n",
    "\n",
    "# Step 2: Compute the derivative\n",
    "f_prime = diff(f, x)  # Derivative with respect to x\n",
    "second_derivative = diff(g, x, 2)  # Second derivative (d^2f/dx^2)\n",
    "\n",
    "# Step 3: Display the result\n",
    "print(f_prime)\n",
    "print(second_derivative)"
   ]
  },
  {
   "cell_type": "code",
   "execution_count": 61,
   "id": "3fb42207-d526-4aaf-bba2-2db7cf4586c9",
   "metadata": {},
   "outputs": [
    {
     "name": "stdout",
     "output_type": "stream",
     "text": [
      "x**3/3\n",
      "8/3\n"
     ]
    }
   ],
   "source": [
    "# Integrals\n",
    "\n",
    "from sympy import symbols, integrate\n",
    "\n",
    "# Step 1: Define the variable and function\n",
    "x = symbols('x')  # Symbolic variable\n",
    "f = x**2          # Function f(x) = x^2\n",
    "\n",
    "# Step 2: Compute the indefinite integral\n",
    "indefinite_integral = integrate(f, x)  # ∫x^2 dx\n",
    "definite_integral = integrate(f, (x, 0, 2))  # Computes ∫(x^2) dx from 0 to 2\n",
    "\n",
    "\n",
    "# Step 3: Display the result\n",
    "print(indefinite_integral)\n",
    "print(definite_integral)"
   ]
  },
  {
   "cell_type": "code",
   "execution_count": null,
   "id": "e5e6a02e-4bda-423a-96c5-d452c0590e00",
   "metadata": {},
   "outputs": [],
   "source": []
  }
 ],
 "metadata": {
  "kernelspec": {
   "display_name": "Python 3 (ipykernel)",
   "language": "python",
   "name": "python3"
  },
  "language_info": {
   "codemirror_mode": {
    "name": "ipython",
    "version": 3
   },
   "file_extension": ".py",
   "mimetype": "text/x-python",
   "name": "python",
   "nbconvert_exporter": "python",
   "pygments_lexer": "ipython3",
   "version": "3.12.7"
  }
 },
 "nbformat": 4,
 "nbformat_minor": 5
}
