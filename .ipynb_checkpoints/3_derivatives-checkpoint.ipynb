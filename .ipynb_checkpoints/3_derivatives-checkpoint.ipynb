{
 "cells": [
  {
   "cell_type": "markdown",
   "id": "1169eb3e-cd52-47fb-90c6-ffc97afbafb3",
   "metadata": {},
   "source": [
    "## Section 3: Derivatives"
   ]
  },
  {
   "cell_type": "code",
   "execution_count": 2,
   "id": "d5d2528d-b32b-4c9d-897a-fe3b476c4cd9",
   "metadata": {},
   "outputs": [
    {
     "name": "stdout",
     "output_type": "stream",
     "text": [
      "2*x\n",
      "6*x\n"
     ]
    }
   ],
   "source": [
    "from sympy import symbols, diff\n",
    "\n",
    "# Step 1: Define the variable and function\n",
    "\n",
    "x = symbols('x')  # Symbolic variable\n",
    "\n",
    "f = x**2          # Function f(x) = x^2\n",
    "\n",
    "g = x**3\n",
    "\n",
    "# Step 2: Compute the derivative\n",
    "f_prime = diff(f, x)  # Derivative with respect to x\n",
    "second_derivative = diff(g, x, 2)  # Second derivative (d^2f/dx^2)\n",
    "\n",
    "# Step 3: Display the result\n",
    "print(f_prime)\n",
    "print(second_derivative)"
   ]
  },
  {
   "cell_type": "code",
   "execution_count": null,
   "id": "79be9e63-b0d6-42df-b065-d9ddb1c62c74",
   "metadata": {},
   "outputs": [],
   "source": []
  }
 ],
 "metadata": {
  "kernelspec": {
   "display_name": "Python 3 (ipykernel)",
   "language": "python",
   "name": "python3"
  },
  "language_info": {
   "codemirror_mode": {
    "name": "ipython",
    "version": 3
   },
   "file_extension": ".py",
   "mimetype": "text/x-python",
   "name": "python",
   "nbconvert_exporter": "python",
   "pygments_lexer": "ipython3",
   "version": "3.12.7"
  }
 },
 "nbformat": 4,
 "nbformat_minor": 5
}
