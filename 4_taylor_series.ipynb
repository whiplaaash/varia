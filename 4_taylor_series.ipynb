{
 "cells": [
  {
   "cell_type": "markdown",
   "id": "515bd894-fd01-4aab-be04-a3b7067a81b2",
   "metadata": {},
   "source": [
    "## Section 4: Taylor series"
   ]
  },
  {
   "cell_type": "code",
   "execution_count": 2,
   "id": "2a87bed5-a05f-49ed-961f-ba673839a542",
   "metadata": {},
   "outputs": [
    {
     "name": "stdout",
     "output_type": "stream",
     "text": [
      "1 + x + x**2/2 + x**3/6 + x**4/24 + x**5/120 + O(x**6)\n"
     ]
    }
   ],
   "source": [
    "from sympy import symbols, exp, series\n",
    "\n",
    "# Step 1: Define the variable and function\n",
    "x = symbols('x')\n",
    "f = exp(x)  # Define the function\n",
    "\n",
    "# Step 2: Perform Taylor expansion around x = 0 up to x^5\n",
    "taylor_expansion = series(f, x, 0, 6)  # Expand up to order 5 (x^5 term)\n",
    "\n",
    "# Step 3: Display the Taylor expansion\n",
    "print(taylor_expansion)"
   ]
  },
  {
   "cell_type": "code",
   "execution_count": null,
   "id": "b6abe537-f537-42c6-a705-5dbfd118a1d3",
   "metadata": {},
   "outputs": [],
   "source": []
  }
 ],
 "metadata": {
  "kernelspec": {
   "display_name": "Python 3 (ipykernel)",
   "language": "python",
   "name": "python3"
  },
  "language_info": {
   "codemirror_mode": {
    "name": "ipython",
    "version": 3
   },
   "file_extension": ".py",
   "mimetype": "text/x-python",
   "name": "python",
   "nbconvert_exporter": "python",
   "pygments_lexer": "ipython3",
   "version": "3.12.7"
  }
 },
 "nbformat": 4,
 "nbformat_minor": 5
}
